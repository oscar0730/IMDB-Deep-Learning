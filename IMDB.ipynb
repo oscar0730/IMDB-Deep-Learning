{
 "cells": [
  {
   "cell_type": "markdown",
   "metadata": {},
   "source": [
    "# IMDB影評分析\n",
    "IMDB網路資料庫是一個電影相關的線上資料庫，開始於 1990 年，共收錄了四百多萬作品資料，涵蓋 50000 筆 \"影評文字”，每一筆 \"影評文字\" 都被標記成 \"正面評價\" 或 \"負面評價”  。情緒分析是使用 \"自然語言處理\" 、文字分析等方法，找出作者表達中的評價或情緒，應用的領域十分多元及富含商業價值，如：可用來提早得知顧客對公司或產品觀感，以即時調整銷售策略方向。"
   ]
  },
  {
   "cell_type": "markdown",
   "metadata": {},
   "source": [
    "### 環境提醒及備註\n",
    "在執行本專案前請先確認Jupyter筆記本設置是否正確，首先點選主選單的「修改」─「筆記本設置」─「運行類別」，選擇「Python3」，同時將「硬件加速器」下拉式選單由「None」改成「GPU」，再按「保存」。"
   ]
  },
  {
   "cell_type": "markdown",
   "metadata": {},
   "source": [
    "### 架構\n",
    "建立一個模型，經過大量 \"影評文字\" 訓練後，此模型能用於預測 \"影評文字\" 的評價，主要包括下面四個步驟：\n",
    ">1.   進行資料前處理(Processing)\n",
    "\n",
    ">2.   建構深度學習模型(Model)\n",
    "\n",
    ">3.   訓練及驗證模型準確度(Validation Accuracy)\n",
    "\n",
    ">4.   評估模型的學習狀況(Inference)"
   ]
  },
  {
   "cell_type": "code",
   "execution_count": 41,
   "metadata": {},
   "outputs": [],
   "source": [
    "# 1-1\n",
    "# 載入所需套件\n",
    "import json\n",
    "# 資料處理套件\n",
    "import pandas as pd\n",
    "import numpy as np\n",
    "import matplotlib.pyplot as plt\n",
    "plt.style.use('ggplot')\n",
    "\n",
    "# 檔案路徑處理套件\n",
    "import urllib.request # 判斷檔案是否存在\n",
    "import os # 開啟壓縮檔\n",
    "import tarfile # 解壓縮檔案至指定目錄\n",
    "\n",
    "# 深度學習套件\n",
    "import tensorflow as tf\n",
    "from keras.preprocessing import sequence # 截長補短\n",
    "from keras.preprocessing.text import Tokenizer  # 建立字典from keras.models import Sequential\n",
    "from keras.layers.core import Dense, Dropout, Activation,Flatten\n",
    "from keras.layers import BatchNormalization, LeakyReLU\n",
    "from keras.layers.embeddings import Embedding # 詞向量\n",
    "from keras import regularizers\n",
    "from keras.models import Sequential"
   ]
  },
  {
   "cell_type": "markdown",
   "metadata": {},
   "source": [
    "---\n",
    "\n",
    "**1.1 下載資料集**\n",
    "\n",
    "---"
   ]
  },
  {
   "cell_type": "code",
   "execution_count": 2,
   "metadata": {},
   "outputs": [],
   "source": [
    "# 1-2\n",
    "\n",
    "url=\"http://ai.stanford.edu/~amaas/data/sentiment/aclImdb_v1.tar.gz\" # 資料集網址  \n",
    "filepath = \"data/aclImdb_v1.tar.gz\" # 設定資料夾路徑\n",
    "if not os.path.isfile(filepath): # 判斷檔案是否存在，如果不存在就下載\n",
    "    result = urllib.request.urlretrieve(url, filepath)  \n",
    "    print('download: ',result) "
   ]
  },
  {
   "cell_type": "code",
   "execution_count": 3,
   "metadata": {},
   "outputs": [],
   "source": [
    "# 1-2\n",
    "\n",
    "if not os.path.exists(\"data/aclImdb\"): # 判斷檔案是否存在\n",
    "    tfile = tarfile.open(\"data/aclImdb_v1.tar.gz\" , 'r:gz') # 開啟壓縮檔\n",
    "    result = tfile.extractall('data/') # 解壓縮檔案至指定目錄"
   ]
  },
  {
   "cell_type": "markdown",
   "metadata": {},
   "source": [
    "---\n",
    "\n",
    "**1.2 資料前處理**\n",
    "\n",
    "---"
   ]
  },
  {
   "cell_type": "code",
   "execution_count": 4,
   "metadata": {},
   "outputs": [],
   "source": [
    "# 1-3\n",
    "# 用正規表示式移除HTML tag\n",
    "\n",
    "import re  # 匯入regular expression 模組\n",
    "def rm_tags(text):  # 建立rm_tags函數，輸入參數text\n",
    "    re_tag = re.compile(r'<[^>]+>')  # 建立re_tag正規表示式變數為'<[^>]+>'\n",
    "    return re_tag.sub('',text)  # 使用re_tag將text文字中，符合正規表示式條件的字變成空字串"
   ]
  },
  {
   "cell_type": "code",
   "execution_count": 5,
   "metadata": {},
   "outputs": [],
   "source": [
    "# 1-4\n",
    "\n",
    "def read_files(filetype): # 建立read_files函數，輸入filetype參數\n",
    "    path = \"data/aclImdb/\" # 設定存取檔案路徑\n",
    "    file_list=[] # 建立檔案list\n",
    "\n",
    "    positive_path=path + filetype+\"/pos/\" # 設定正面評價檔案目錄positive_path\n",
    "    for f in os.listdir(positive_path):  # 利用for迴圈將positive_path中的檔案加入file_list\n",
    "        file_list+=[positive_path+f]\n",
    "    \n",
    "    negative_path=path + filetype+\"/neg/\"  # 設定負面評價檔案目錄negative_path\n",
    "    for f in os.listdir(negative_path):  # 利用for迴圈將negative_path中的檔案加入file_list\n",
    "        file_list+=[negative_path+f]\n",
    "        \n",
    "    print('read',filetype, 'files:',len(file_list)) # 顯示目前讀取的filetype目錄下檔案的個數\n",
    "       \n",
    "    all_labels = ([1] * 12500 + [0] * 12500) \n",
    "    \n",
    "    all_texts  = []\n",
    "    for fi in file_list:  # fi讀取file_list檔案\n",
    "        with open(fi,encoding='utf8') as file_input:  # 使用open(fi,encoding='utf8')讀取檔案為file_input\n",
    "            all_texts += [rm_tags(\" \".join(file_input.readlines()))]  # 使用file_input.readlines()讀取檔案，並使用join連結所有檔案內容，然後使用rm_tags移除tag最後加入all_texts list\n",
    "            \n",
    "    return all_labels,all_texts  # 傳回all_labels,all_texts"
   ]
  },
  {
   "cell_type": "code",
   "execution_count": 6,
   "metadata": {},
   "outputs": [],
   "source": [
    "# 1-5\n",
    "\n",
    "def save_train(file):\n",
    "    for i in range(12500):\n",
    "        fp =  open(file[i],'w')"
   ]
  },
  {
   "cell_type": "code",
   "execution_count": 7,
   "metadata": {},
   "outputs": [
    {
     "name": "stdout",
     "output_type": "stream",
     "text": [
      "read train files: 25000\n"
     ]
    }
   ],
   "source": [
    "# 1-6\n",
    "# 使用read_files傳入train參數，讀取訓練資料\n",
    "\n",
    "y_train,train_text=read_files(\"train\") "
   ]
  },
  {
   "cell_type": "code",
   "execution_count": 8,
   "metadata": {},
   "outputs": [
    {
     "name": "stdout",
     "output_type": "stream",
     "text": [
      "read test files: 25000\n"
     ]
    }
   ],
   "source": [
    "# 1-7\n",
    "# 使用read_files傳入test參數 讀取測試資料\n",
    "\n",
    "y_test,test_text=read_files(\"test\") "
   ]
  },
  {
   "cell_type": "code",
   "execution_count": 9,
   "metadata": {},
   "outputs": [
    {
     "data": {
      "text/plain": [
       "'Bromwell High is a cartoon comedy. It ran at the same time as some other programs about school life, such as \"Teachers\". My 35 years in the teaching profession lead me to believe that Bromwell High\\'s satire is much closer to reality than is \"Teachers\". The scramble to survive financially, the insightful students who can see right through their pathetic teachers\\' pomp, the pettiness of the whole situation, all remind me of the schools I knew and their students. When I saw the episode in which a student repeatedly tried to burn down the school, I immediately recalled ......... at .......... High. A classic line: INSPECTOR: I\\'m here to sack one of your teachers. STUDENT: Welcome to Bromwell High. I expect that many adults of my age think that Bromwell High is far fetched. What a pity that it isn\\'t!'"
      ]
     },
     "execution_count": 9,
     "metadata": {},
     "output_type": "execute_result"
    }
   ],
   "source": [
    "# 1-8\n",
    "\n",
    "train_text[0]"
   ]
  },
  {
   "cell_type": "code",
   "execution_count": 10,
   "metadata": {},
   "outputs": [
    {
     "data": {
      "text/plain": [
       "1"
      ]
     },
     "execution_count": 10,
     "metadata": {},
     "output_type": "execute_result"
    }
   ],
   "source": [
    "# 1-9\n",
    "# 結果是1表示為正面評價\n",
    "\n",
    "y_train[0] "
   ]
  },
  {
   "cell_type": "markdown",
   "metadata": {},
   "source": [
    "---\n",
    "\n",
    "**1.3 建立訓練數據集**\n",
    "\n",
    "---"
   ]
  },
  {
   "cell_type": "code",
   "execution_count": 11,
   "metadata": {
    "scrolled": false
   },
   "outputs": [
    {
     "data": {
      "text/plain": [
       "[39,\n",
       " 41,\n",
       " 62,\n",
       " 88,\n",
       " 118,\n",
       " 123,\n",
       " 142,\n",
       " 143,\n",
       " 148,\n",
       " 30201,\n",
       " 160,\n",
       " 187,\n",
       " 194,\n",
       " 203,\n",
       " 214,\n",
       " 236,\n",
       " 237,\n",
       " 281,\n",
       " 301,\n",
       " 339,\n",
       " 3,\n",
       " 9,\n",
       " 40,\n",
       " 748,\n",
       " 634,\n",
       " 99,\n",
       " 3493,\n",
       " 170,\n",
       " 425,\n",
       " 28,\n",
       " 216,\n",
       " 580,\n",
       " 363,\n",
       " 454,\n",
       " 77,\n",
       " 258,\n",
       " 206,\n",
       " 240,\n",
       " 787,\n",
       " 2979,\n",
       " 1162,\n",
       " 31,\n",
       " 2,\n",
       " 155,\n",
       " 97,\n",
       " 6405,\n",
       " 255,\n",
       " 228,\n",
       " 549,\n",
       " 1760,\n",
       " 22,\n",
       " 183,\n",
       " 13,\n",
       " 29,\n",
       " 141,\n",
       " 25,\n",
       " 873,\n",
       " 83,\n",
       " 409,\n",
       " 455,\n",
       " 1568,\n",
       " 73,\n",
       " 154,\n",
       " 7871,\n",
       " 491,\n",
       " 108,\n",
       " 1904,\n",
       " 5595,\n",
       " 1366,\n",
       " 196,\n",
       " 720,\n",
       " 984,\n",
       " 195,\n",
       " 1330,\n",
       " 17,\n",
       " 30,\n",
       " 679,\n",
       " 66,\n",
       " 561,\n",
       " 2494,\n",
       " 997,\n",
       " 2700,\n",
       " 96,\n",
       " 24561,\n",
       " 1408,\n",
       " 848,\n",
       " 1632,\n",
       " 1584,\n",
       " 78,\n",
       " 220,\n",
       " 176,\n",
       " 684,\n",
       " 311,\n",
       " 253,\n",
       " 10996,\n",
       " 2312,\n",
       " 341,\n",
       " 6000,\n",
       " 331,\n",
       " 3298,\n",
       " 1899,\n",
       " 191,\n",
       " 520,\n",
       " 56,\n",
       " 122,\n",
       " 171,\n",
       " 312,\n",
       " 282,\n",
       " 2574,\n",
       " 545,\n",
       " 167,\n",
       " 3514,\n",
       " 2227,\n",
       " 165,\n",
       " 962,\n",
       " 82,\n",
       " 672,\n",
       " 14,\n",
       " 1135,\n",
       " 10621,\n",
       " 4203,\n",
       " 254,\n",
       " 685,\n",
       " 35,\n",
       " 1004,\n",
       " 364,\n",
       " 1031,\n",
       " 74,\n",
       " 198,\n",
       " 136,\n",
       " 65,\n",
       " 43,\n",
       " 52479,\n",
       " 24,\n",
       " 26,\n",
       " 3035,\n",
       " 37,\n",
       " 129,\n",
       " 29752,\n",
       " 39150,\n",
       " 11339,\n",
       " 6116,\n",
       " 760,\n",
       " 86,\n",
       " 305,\n",
       " 23,\n",
       " 85,\n",
       " 186,\n",
       " 3130,\n",
       " 6007,\n",
       " 44,\n",
       " 7,\n",
       " 9311,\n",
       " 845,\n",
       " 598,\n",
       " 79,\n",
       " 6,\n",
       " 8,\n",
       " 90,\n",
       " 406,\n",
       " 397,\n",
       " 232,\n",
       " 1565,\n",
       " 218,\n",
       " 324,\n",
       " 66863,\n",
       " 89,\n",
       " 107,\n",
       " 199,\n",
       " 68,\n",
       " 2078,\n",
       " 234,\n",
       " 4237,\n",
       " 1917,\n",
       " 49,\n",
       " 5352,\n",
       " 87,\n",
       " 664,\n",
       " 843,\n",
       " 72,\n",
       " 211,\n",
       " 57,\n",
       " 542,\n",
       " 399,\n",
       " 4448,\n",
       " 1079,\n",
       " 111,\n",
       " 2175,\n",
       " 371,\n",
       " 3008,\n",
       " 53,\n",
       " 1335,\n",
       " 595,\n",
       " 26731,\n",
       " 881,\n",
       " 20,\n",
       " 159,\n",
       " 146,\n",
       " 1278,\n",
       " 4,\n",
       " 121,\n",
       " 395,\n",
       " 19,\n",
       " 276,\n",
       " 27,\n",
       " 60,\n",
       " 1639,\n",
       " 38,\n",
       " 81,\n",
       " 404,\n",
       " 896,\n",
       " 259,\n",
       " 11091,\n",
       " 3128,\n",
       " 42,\n",
       " 116,\n",
       " 201,\n",
       " 169,\n",
       " 3127,\n",
       " 377,\n",
       " 588,\n",
       " 272,\n",
       " 243,\n",
       " 791,\n",
       " 168,\n",
       " 63,\n",
       " 302,\n",
       " 464,\n",
       " 6014,\n",
       " 182,\n",
       " 617,\n",
       " 446,\n",
       " 55,\n",
       " 140,\n",
       " 119,\n",
       " 495,\n",
       " 233,\n",
       " 4803,\n",
       " 1442,\n",
       " 9557,\n",
       " 34,\n",
       " 45,\n",
       " 816,\n",
       " 290,\n",
       " 138,\n",
       " 6162,\n",
       " 514,\n",
       " 1194,\n",
       " 127,\n",
       " 137,\n",
       " 1504,\n",
       " 189,\n",
       " 743,\n",
       " 70,\n",
       " 11,\n",
       " 1,\n",
       " 64,\n",
       " 94,\n",
       " 529,\n",
       " 91,\n",
       " 41726,\n",
       " 46,\n",
       " 8566,\n",
       " 7612,\n",
       " 1615,\n",
       " 10188,\n",
       " 130,\n",
       " 32,\n",
       " 3796,\n",
       " 1523,\n",
       " 836,\n",
       " 10,\n",
       " 144,\n",
       " 147,\n",
       " 285,\n",
       " 139,\n",
       " 465,\n",
       " 4430,\n",
       " 1345,\n",
       " 5,\n",
       " 291,\n",
       " 95,\n",
       " 346,\n",
       " 1839,\n",
       " 945,\n",
       " 3902,\n",
       " 1781,\n",
       " 103,\n",
       " 2752,\n",
       " 461,\n",
       " 362,\n",
       " 52,\n",
       " 721,\n",
       " 174,\n",
       " 51,\n",
       " 2856,\n",
       " 12,\n",
       " 71,\n",
       " 69,\n",
       " 67,\n",
       " 47,\n",
       " 841,\n",
       " 50,\n",
       " 25776,\n",
       " 1939,\n",
       " 117,\n",
       " 3132,\n",
       " 18316,\n",
       " 10578,\n",
       " 26441,\n",
       " 8002,\n",
       " 722,\n",
       " 59,\n",
       " 133,\n",
       " 54496,\n",
       " 33,\n",
       " 2497,\n",
       " 222,\n",
       " 932,\n",
       " 619,\n",
       " 134,\n",
       " 76,\n",
       " 15,\n",
       " 741,\n",
       " 205,\n",
       " 58,\n",
       " 242,\n",
       " 21,\n",
       " 125,\n",
       " 6465,\n",
       " 621]"
      ]
     },
     "execution_count": 11,
     "metadata": {},
     "output_type": "execute_result"
    }
   ],
   "source": [
    "# 1-10\n",
    "# 建立一個3500個字的字典\n",
    "# 讀取訓練及資料影評，排序前3500的英文字會列入字典\n",
    "\n",
    "token = Tokenizer(num_words=3500)  \n",
    "token.fit_on_texts(train_text)\n",
    "tokenWords = token.word_index\n",
    "stopWords = ['just',\"it's\",'really',\"don't\",'did','does',\"i'm\",'real',\"doesn't\",\"did't\",'10',\"can't\",\"that's\",\"i've\",\"isn't\",\"he's\",'2',\"wasn't\",'1','3','a','i','about','above','across','after','afterwards','again','against','all','almost','alone','along','already','also','although','always','am','among','amongst','amount','an','and','another','any','anyhow','anyone','anything','anyway','anywhere','are','around','as','at','back','be','became','because','become','becomes','becoming','been','before','beforehand','behind','being','below','beside','besides','between','beyond','bill','both','bottom','but','by','call','can','cannot','cant','co','con','could','couldnt','cry','de','describe','detail','do','done','down','due','during','each','eg','eight','either','eleven','else','elsewhere','empty','enough','etc','even','ever','every','everyone','everything','everywhere','except','few','fifteen','fill','find','fire','first','five','for','former','formerly','forty','found','four','from','front','full','further','get','give','go','had','has','hasnt','have','he','hence','her','here','hereafter','hereby','herein','hers','herself','him','himself','his','how','however','hundred','ie','if','in','inc','indeed','interest','into','is','it','its','itself','keep','last','latter','least','less','ltd','made','many','may','me','meanwhile','might','mill','mine','more','moreover','most','mostly','move','much','must','my','myself','name','namely','neither','never','nevertheless','next','nine','no','nobody','none','noone','nor','not','nothing','now','nowhere','of','off','often','on','once','one','only','onto','or','other','others','otherwise','our','ours','ourselves','out','over','own','part','per','perhaps','please','put','rather','re','same','see','seem','seemed','seeming','seems','serious','several','she','should','show','side','since','sincere','six','sixty','so','some','somehow','someone','something','sometime','sometimes','somewhere','still','such','system','take','ten','than','that','the','their','them','themselves','then','thence','there','thereafter','thereby','therefore','therein','these','they','thick','thin','third','this','those','though','three','through','throughout','thru','thus','to','together','too','top','toward','towards','twelve','twenty','two','un','under','until','up','upon','us','very','via','was','we','well','were','what','whatever','when','whence','whenever','where','whereas','whereby','wherein','whereupon','wherever','whether','which','while','whither','who','whoever','whole','whom','whose','why','will','with','within','without','would','yet','you','your','yours','yourself']\n",
    "[tokenWords.pop(key) for key in stopWords]"
   ]
  },
  {
   "cell_type": "code",
   "execution_count": 12,
   "metadata": {},
   "outputs": [
    {
     "name": "stdout",
     "output_type": "stream",
     "text": [
      "25000\n"
     ]
    }
   ],
   "source": [
    "# 1-11\n",
    "\n",
    "print(token.document_count)"
   ]
  },
  {
   "cell_type": "code",
   "execution_count": 13,
   "metadata": {},
   "outputs": [],
   "source": [
    "# 1-12\n",
    "\n",
    "#print(token.word_index)\n",
    "\n",
    "#with open('tokenWords.json', 'w') as file:\n",
    "    #file.write(json.dumps(token.word_index))"
   ]
  },
  {
   "cell_type": "code",
   "execution_count": 14,
   "metadata": {},
   "outputs": [],
   "source": [
    "# 1-13\n",
    "\n",
    "x_train_seq = token.texts_to_sequences(train_text)\n",
    "x_test_seq = token.texts_to_sequences(test_text)"
   ]
  },
  {
   "cell_type": "code",
   "execution_count": 15,
   "metadata": {},
   "outputs": [
    {
     "name": "stdout",
     "output_type": "stream",
     "text": [
      "Bromwell High is a cartoon comedy. It ran at the same time as some other programs about school life, such as \"Teachers\". My 35 years in the teaching profession lead me to believe that Bromwell High's satire is much closer to reality than is \"Teachers\". The scramble to survive financially, the insightful students who can see right through their pathetic teachers' pomp, the pettiness of the whole situation, all remind me of the schools I knew and their students. When I saw the episode in which a student repeatedly tried to burn down the school, I immediately recalled ......... at .......... High. A classic line: INSPECTOR: I'm here to sack one of your teachers. STUDENT: Welcome to Bromwell High. I expect that many adults of my age think that Bromwell High is far fetched. What a pity that it isn't!\n"
     ]
    }
   ],
   "source": [
    "# 1-14\n",
    "\n",
    "print(train_text[0])"
   ]
  },
  {
   "cell_type": "code",
   "execution_count": 16,
   "metadata": {},
   "outputs": [
    {
     "name": "stdout",
     "output_type": "stream",
     "text": [
      "[308, 1068, 208, 2160, 54, 391, 109, 149, 481, 260, 2000, 2422, 631, 2001, 1530, 204, 1229, 899, 3021, 693, 1530, 215, 386, 1470, 798, 391, 1235, 308, 352, 343, 2970, 1470, 2372, 308, 532, 1466, 554, 100, 308, 226, 2231]\n"
     ]
    }
   ],
   "source": [
    "# 1-15\n",
    "\n",
    "print(x_train_seq[0])"
   ]
  },
  {
   "cell_type": "code",
   "execution_count": 17,
   "metadata": {},
   "outputs": [],
   "source": [
    "# 1-16\n",
    "# 100為數字list長度 可以修改\n",
    "\n",
    "x_train = sequence.pad_sequences(x_train_seq,maxlen=350)  \n",
    "x_test = sequence.pad_sequences(x_test_seq,maxlen=350)"
   ]
  },
  {
   "cell_type": "code",
   "execution_count": 18,
   "metadata": {},
   "outputs": [
    {
     "name": "stdout",
     "output_type": "stream",
     "text": [
      "before pad_sequences length= 123\n",
      "[739, 3413, 1828, 149, 1338, 335, 886, 1190, 402, 166, 391, 153, 2304, 546, 80, 100, 3263, 412, 1199, 179, 3080, 321, 358, 3107, 2126, 126, 1980, 344, 2128, 408, 1980, 3229, 340, 719, 725, 1264, 1506, 1220, 2523, 36, 3263, 2030, 3208, 379, 294, 1022, 128, 178, 93, 2128, 2995, 408, 1980, 3247, 499, 2875, 490, 701, 1181, 227, 1367, 886, 1483, 344, 394, 888, 101, 582, 251, 1956, 1230, 3183, 184, 2320, 340, 2223, 2600, 338, 1980, 502, 338, 36, 1022, 544, 2812, 511, 551, 115, 2015, 1660, 110, 109, 104, 2587, 208, 283, 1074, 2750, 153, 181, 546, 36, 256, 2320, 247, 503, 227, 374, 2128, 36, 1022, 80, 120, 274, 275, 3263, 300, 767, 36, 274, 275, 18, 335]\n"
     ]
    }
   ],
   "source": [
    "# 1-17\n",
    "\n",
    "print('before pad_sequences length=',len(x_train_seq[1]))\n",
    "print(x_train_seq[1])"
   ]
  },
  {
   "cell_type": "code",
   "execution_count": 19,
   "metadata": {},
   "outputs": [
    {
     "name": "stdout",
     "output_type": "stream",
     "text": [
      "after pad_sequences length= 350\n",
      "[   0    0    0    0    0    0    0    0    0    0    0    0    0    0\n",
      "    0    0    0    0    0    0    0    0    0    0    0    0    0    0\n",
      "    0    0    0    0    0    0    0    0    0    0    0    0    0    0\n",
      "    0    0    0    0    0    0    0    0    0    0    0    0    0    0\n",
      "    0    0    0    0    0    0    0    0    0    0    0    0    0    0\n",
      "    0    0    0    0    0    0    0    0    0    0    0    0    0    0\n",
      "    0    0    0    0    0    0    0    0    0    0    0    0    0    0\n",
      "    0    0    0    0    0    0    0    0    0    0    0    0    0    0\n",
      "    0    0    0    0    0    0    0    0    0    0    0    0    0    0\n",
      "    0    0    0    0    0    0    0    0    0    0    0    0    0    0\n",
      "    0    0    0    0    0    0    0    0    0    0    0    0    0    0\n",
      "    0    0    0    0    0    0    0    0    0    0    0    0    0    0\n",
      "    0    0    0    0    0    0    0    0    0    0    0    0    0    0\n",
      "    0    0    0    0    0    0    0    0    0    0    0    0    0    0\n",
      "    0    0    0    0    0    0    0    0    0    0    0    0    0    0\n",
      "    0    0    0    0    0    0    0    0    0    0    0    0    0    0\n",
      "    0    0    0  739 3413 1828  149 1338  335  886 1190  402  166  391\n",
      "  153 2304  546   80  100 3263  412 1199  179 3080  321  358 3107 2126\n",
      "  126 1980  344 2128  408 1980 3229  340  719  725 1264 1506 1220 2523\n",
      "   36 3263 2030 3208  379  294 1022  128  178   93 2128 2995  408 1980\n",
      " 3247  499 2875  490  701 1181  227 1367  886 1483  344  394  888  101\n",
      "  582  251 1956 1230 3183  184 2320  340 2223 2600  338 1980  502  338\n",
      "   36 1022  544 2812  511  551  115 2015 1660  110  109  104 2587  208\n",
      "  283 1074 2750  153  181  546   36  256 2320  247  503  227  374 2128\n",
      "   36 1022   80  120  274  275 3263  300  767   36  274  275   18  335]\n"
     ]
    }
   ],
   "source": [
    "# 1-18\n",
    "\n",
    "print('after pad_sequences length=',len(x_train[1]))\n",
    "print(x_train[1])"
   ]
  },
  {
   "cell_type": "code",
   "execution_count": 20,
   "metadata": {},
   "outputs": [
    {
     "name": "stdout",
     "output_type": "stream",
     "text": [
      "before pad_sequences length= 41\n",
      "[739, 3413, 1828, 149, 1338, 335, 886, 1190, 402, 166, 391, 153, 2304, 546, 80, 100, 3263, 412, 1199, 179, 3080, 321, 358, 3107, 2126, 126, 1980, 344, 2128, 408, 1980, 3229, 340, 719, 725, 1264, 1506, 1220, 2523, 36, 3263, 2030, 3208, 379, 294, 1022, 128, 178, 93, 2128, 2995, 408, 1980, 3247, 499, 2875, 490, 701, 1181, 227, 1367, 886, 1483, 344, 394, 888, 101, 582, 251, 1956, 1230, 3183, 184, 2320, 340, 2223, 2600, 338, 1980, 502, 338, 36, 1022, 544, 2812, 511, 551, 115, 2015, 1660, 110, 109, 104, 2587, 208, 283, 1074, 2750, 153, 181, 546, 36, 256, 2320, 247, 503, 227, 374, 2128, 36, 1022, 80, 120, 274, 275, 3263, 300, 767, 36, 274, 275, 18, 335]\n"
     ]
    }
   ],
   "source": [
    "# 1-19\n",
    "\n",
    "print('before pad_sequences length=',len(x_train_seq[0]))\n",
    "print(x_train_seq[1])"
   ]
  },
  {
   "cell_type": "code",
   "execution_count": 21,
   "metadata": {},
   "outputs": [
    {
     "name": "stdout",
     "output_type": "stream",
     "text": [
      "after pad_sequences length= 350\n",
      "[   0    0    0    0    0    0    0    0    0    0    0    0    0    0\n",
      "    0    0    0    0    0    0    0    0    0    0    0    0    0    0\n",
      "    0    0    0    0    0    0    0    0    0    0    0    0    0    0\n",
      "    0    0    0    0    0    0    0    0    0    0    0    0    0    0\n",
      "    0    0    0    0    0    0    0    0    0    0    0    0    0    0\n",
      "    0    0    0    0    0    0    0    0    0    0    0    0    0    0\n",
      "    0    0    0    0    0    0    0    0    0    0    0    0    0    0\n",
      "    0    0    0    0    0    0    0    0    0    0    0    0    0    0\n",
      "    0    0    0    0    0    0    0    0    0    0    0    0    0    0\n",
      "    0    0    0    0    0    0    0    0    0    0    0    0    0    0\n",
      "    0    0    0    0    0    0    0    0    0    0    0    0    0    0\n",
      "    0    0    0    0    0    0    0    0    0    0    0    0    0    0\n",
      "    0    0    0    0    0    0    0    0    0    0    0    0    0    0\n",
      "    0    0    0    0    0    0    0    0    0    0    0    0    0    0\n",
      "    0    0    0    0    0    0    0    0    0    0    0    0    0    0\n",
      "    0    0    0    0    0    0    0    0    0    0    0    0    0    0\n",
      "    0    0    0    0    0    0    0    0    0    0    0    0    0    0\n",
      "    0    0    0    0    0    0    0    0    0    0    0    0    0    0\n",
      "    0    0    0    0    0    0    0    0    0    0    0    0    0    0\n",
      "    0    0    0    0    0    0    0    0    0    0    0    0    0    0\n",
      "    0    0    0    0    0    0    0    0    0    0    0    0    0    0\n",
      "    0    0    0    0    0    0    0    0    0    0    0    0    0    0\n",
      "    0  308 1068  208 2160   54  391  109  149  481  260 2000 2422  631\n",
      " 2001 1530  204 1229  899 3021  693 1530  215  386 1470  798  391 1235\n",
      "  308  352  343 2970 1470 2372  308  532 1466  554  100  308  226 2231]\n"
     ]
    }
   ],
   "source": [
    "# 1-20\n",
    "\n",
    "print('after pad_sequences length=',len(x_train[0]))\n",
    "print(x_train[0])"
   ]
  },
  {
   "cell_type": "markdown",
   "metadata": {},
   "source": [
    "---\n",
    "\n",
    "**1.4 建立深度學習模型**\n",
    "\n",
    "---"
   ]
  },
  {
   "cell_type": "code",
   "execution_count": 60,
   "metadata": {},
   "outputs": [],
   "source": [
    "# 1-21\n",
    "\n",
    "model = Sequential()"
   ]
  },
  {
   "cell_type": "code",
   "execution_count": 61,
   "metadata": {},
   "outputs": [],
   "source": [
    "# 1-22\n",
    "# 將『數字list』轉為32維度的向量\n",
    "# 建立3500維度的向量\n",
    "# list每筆為350個字 \n",
    "# 加入Dropout避免overfitting\n",
    "\n",
    "model.add(Embedding(output_dim=32, input_dim=3500, input_length=350)) # (2000是輸入維度，100是數字list長度)\n",
    "model.add(BatchNormalization())  "
   ]
  },
  {
   "cell_type": "code",
   "execution_count": 62,
   "metadata": {},
   "outputs": [],
   "source": [
    "# 1-23\n",
    "\n",
    "model.add(Flatten())"
   ]
  },
  {
   "cell_type": "code",
   "execution_count": 63,
   "metadata": {},
   "outputs": [
    {
     "name": "stderr",
     "output_type": "stream",
     "text": [
      "C:\\Users\\Yu\\AppData\\Roaming\\Python\\Python37\\site-packages\\keras\\activations.py:235: UserWarning: Do not pass a layer instance (such as LeakyReLU) as the activation argument of another layer. Instead, advanced activation layers should be used just like any other layer in a model.\n",
      "  identifier=identifier.__class__.__name__))\n"
     ]
    }
   ],
   "source": [
    "# 1-24\n",
    "# 隱藏層有256個神經元\n",
    "# 定義激活函數\n",
    "# 加入Dropout避免overfitting\n",
    "\n",
    "model.add(Dense(units=256, activation = LeakyReLU(), kernel_regularizer=regularizers.l2(0.05)))\n",
    "model.add(BatchNormalization())"
   ]
  },
  {
   "cell_type": "code",
   "execution_count": 64,
   "metadata": {},
   "outputs": [],
   "source": [
    "# 1-25\n",
    "# 輸出層有1個神經元\n",
    "# 定義激活函數\n",
    "\n",
    "model.add(Dense(units=1,activation='sigmoid' ))"
   ]
  },
  {
   "cell_type": "code",
   "execution_count": 65,
   "metadata": {},
   "outputs": [
    {
     "name": "stdout",
     "output_type": "stream",
     "text": [
      "Model: \"sequential_4\"\n",
      "_________________________________________________________________\n",
      "Layer (type)                 Output Shape              Param #   \n",
      "=================================================================\n",
      "embedding_4 (Embedding)      (None, 350, 32)           112000    \n",
      "_________________________________________________________________\n",
      "batch_normalization_7 (Batch (None, 350, 32)           128       \n",
      "_________________________________________________________________\n",
      "flatten_2 (Flatten)          (None, 11200)             0         \n",
      "_________________________________________________________________\n",
      "dense_9 (Dense)              (None, 256)               2867456   \n",
      "_________________________________________________________________\n",
      "batch_normalization_8 (Batch (None, 256)               1024      \n",
      "_________________________________________________________________\n",
      "dense_10 (Dense)             (None, 1)                 257       \n",
      "=================================================================\n",
      "Total params: 2,980,865\n",
      "Trainable params: 2,980,289\n",
      "Non-trainable params: 576\n",
      "_________________________________________________________________\n"
     ]
    }
   ],
   "source": [
    "# 1-26\n",
    "\n",
    "model.summary()"
   ]
  },
  {
   "cell_type": "code",
   "execution_count": 66,
   "metadata": {},
   "outputs": [],
   "source": [
    "# 1-27\n",
    "# 設定損失函數\n",
    "# 設定最優化的訓練方法\n",
    "# 設定評估模型方式\n",
    "\n",
    "model.compile(loss='binary_crossentropy',optimizer='adam',metrics=['accuracy'])"
   ]
  },
  {
   "cell_type": "code",
   "execution_count": 67,
   "metadata": {},
   "outputs": [],
   "source": [
    "# 1-28\n",
    "\n",
    "from keras.callbacks import EarlyStopping\n",
    "early_stopping = EarlyStopping(monitor='val_loss', patience=50, verbose=2)"
   ]
  },
  {
   "cell_type": "code",
   "execution_count": 68,
   "metadata": {},
   "outputs": [
    {
     "name": "stdout",
     "output_type": "stream",
     "text": [
      "Train on 18750 samples, validate on 6250 samples\n",
      "Epoch 1/10\n",
      " - 38s - loss: 1.6408 - accuracy: 0.7715 - val_loss: 1.1624 - val_accuracy: 0.6102\n",
      "Epoch 2/10\n",
      " - 37s - loss: 0.6911 - accuracy: 0.8685 - val_loss: 1.2556 - val_accuracy: 0.5250\n",
      "Epoch 3/10\n",
      " - 36s - loss: 0.6410 - accuracy: 0.8983 - val_loss: 0.9823 - val_accuracy: 0.7606\n",
      "Epoch 4/10\n",
      " - 36s - loss: 0.6116 - accuracy: 0.9230 - val_loss: 0.9171 - val_accuracy: 0.8310\n",
      "Epoch 5/10\n",
      " - 36s - loss: 0.5549 - accuracy: 0.9406 - val_loss: 1.2433 - val_accuracy: 0.7216\n",
      "Epoch 6/10\n",
      " - 38s - loss: 0.4973 - accuracy: 0.9558 - val_loss: 1.1271 - val_accuracy: 0.7856\n",
      "Epoch 7/10\n",
      " - 36s - loss: 0.4171 - accuracy: 0.9643 - val_loss: 1.1756 - val_accuracy: 0.7219\n",
      "Epoch 8/10\n",
      " - 36s - loss: 0.3978 - accuracy: 0.9724 - val_loss: 1.6516 - val_accuracy: 0.6573\n",
      "Epoch 9/10\n",
      " - 36s - loss: 0.3745 - accuracy: 0.9753 - val_loss: 1.2523 - val_accuracy: 0.7280\n",
      "Epoch 10/10\n",
      " - 36s - loss: 0.3515 - accuracy: 0.9803 - val_loss: 1.6998 - val_accuracy: 0.6531\n"
     ]
    }
   ],
   "source": [
    "# 1-29\n",
    "# 設定訓練參數\n",
    "# 設定每一次訓練幾筆資料\n",
    "# 設定執行幾次週期\n",
    "# 顯示訓練過程\n",
    "# 設定訓練與驗證資料比例\n",
    "train_history = model.fit ( x_train , y_train , batch_size=32 , epochs=10 , verbose=2 , validation_split=0.25)                  "
   ]
  },
  {
   "cell_type": "code",
   "execution_count": 31,
   "metadata": {},
   "outputs": [],
   "source": [
    "# 1-30\n",
    "\n",
    "from keras.layers.recurrent import SimpleRNN"
   ]
  },
  {
   "cell_type": "code",
   "execution_count": 32,
   "metadata": {},
   "outputs": [],
   "source": [
    "# 1-31\n",
    "\n",
    "model_2 = Sequential()"
   ]
  },
  {
   "cell_type": "code",
   "execution_count": 33,
   "metadata": {},
   "outputs": [],
   "source": [
    "# 1-32\n",
    "\n",
    "model_2.add(Embedding(output_dim=32, input_dim=3500, input_length=350))      \n",
    "model_2.add(Dropout(0.2))  "
   ]
  },
  {
   "cell_type": "code",
   "execution_count": 34,
   "metadata": {},
   "outputs": [],
   "source": [
    "# 1-33\n",
    "\n",
    "model_2.add ( SimpleRNN ( units=16 ) )"
   ]
  },
  {
   "cell_type": "code",
   "execution_count": 42,
   "metadata": {},
   "outputs": [
    {
     "name": "stderr",
     "output_type": "stream",
     "text": [
      "C:\\Users\\Yu\\AppData\\Roaming\\Python\\Python37\\site-packages\\keras\\activations.py:235: UserWarning: Do not pass a layer instance (such as LeakyReLU) as the activation argument of another layer. Instead, advanced activation layers should be used just like any other layer in a model.\n",
      "  identifier=identifier.__class__.__name__))\n"
     ]
    }
   ],
   "source": [
    "# 1-34\n",
    "\n",
    "model_2.add(Dense(units=256, activation =  LeakyReLU(), kernel_regularizer=regularizers.l2(0.01)))\n",
    "model_2.add(BatchNormalization())"
   ]
  },
  {
   "cell_type": "code",
   "execution_count": 43,
   "metadata": {},
   "outputs": [],
   "source": [
    "# 1-35\n",
    "\n",
    "model_2.add(Dense(units=1,activation='sigmoid' ))"
   ]
  },
  {
   "cell_type": "code",
   "execution_count": 44,
   "metadata": {},
   "outputs": [
    {
     "name": "stdout",
     "output_type": "stream",
     "text": [
      "Model: \"sequential_2\"\n",
      "_________________________________________________________________\n",
      "Layer (type)                 Output Shape              Param #   \n",
      "=================================================================\n",
      "embedding_2 (Embedding)      (None, 350, 32)           112000    \n",
      "_________________________________________________________________\n",
      "dropout_1 (Dropout)          (None, 350, 32)           0         \n",
      "_________________________________________________________________\n",
      "simple_rnn_1 (SimpleRNN)     (None, 16)                784       \n",
      "_________________________________________________________________\n",
      "dense_3 (Dense)              (None, 256)               4352      \n",
      "_________________________________________________________________\n",
      "batch_normalization_3 (Batch (None, 256)               1024      \n",
      "_________________________________________________________________\n",
      "dense_4 (Dense)              (None, 1)                 257       \n",
      "_________________________________________________________________\n",
      "dense_5 (Dense)              (None, 256)               512       \n",
      "_________________________________________________________________\n",
      "batch_normalization_4 (Batch (None, 256)               1024      \n",
      "_________________________________________________________________\n",
      "dense_6 (Dense)              (None, 1)                 257       \n",
      "=================================================================\n",
      "Total params: 118,929\n",
      "Trainable params: 117,905\n",
      "Non-trainable params: 1,024\n",
      "_________________________________________________________________\n"
     ]
    },
    {
     "name": "stderr",
     "output_type": "stream",
     "text": [
      "C:\\Users\\Yu\\AppData\\Roaming\\Python\\Python37\\site-packages\\keras\\engine\\training.py:297: UserWarning: Discrepancy between trainable weights and collected trainable weights, did you set `model.trainable` without calling `model.compile` after ?\n",
      "  'Discrepancy between trainable weights and collected trainable'\n"
     ]
    }
   ],
   "source": [
    "# 1-36\n",
    "\n",
    "model_2.summary()"
   ]
  },
  {
   "cell_type": "code",
   "execution_count": 45,
   "metadata": {},
   "outputs": [],
   "source": [
    "# 1-37\n",
    "\n",
    "model_2.compile(loss='binary_crossentropy',optimizer='adam',metrics=['accuracy'])"
   ]
  },
  {
   "cell_type": "code",
   "execution_count": 89,
   "metadata": {},
   "outputs": [
    {
     "name": "stdout",
     "output_type": "stream",
     "text": [
      "Train on 20000 samples, validate on 5000 samples\n",
      "Epoch 1/15\n",
      " - 34s - loss: 0.0590 - accuracy: 0.9850 - val_loss: 0.9782 - val_accuracy: 0.7970\n",
      "Epoch 2/15\n"
     ]
    },
    {
     "ename": "KeyboardInterrupt",
     "evalue": "",
     "output_type": "error",
     "traceback": [
      "\u001b[1;31m---------------------------------------------------------------------------\u001b[0m",
      "\u001b[1;31mKeyboardInterrupt\u001b[0m                         Traceback (most recent call last)",
      "\u001b[1;32m<ipython-input-89-3ed1a5d2277b>\u001b[0m in \u001b[0;36m<module>\u001b[1;34m\u001b[0m\n\u001b[0;32m      1\u001b[0m \u001b[1;31m# 1-38\u001b[0m\u001b[1;33m\u001b[0m\u001b[1;33m\u001b[0m\u001b[1;33m\u001b[0m\u001b[0m\n\u001b[0;32m      2\u001b[0m \u001b[1;33m\u001b[0m\u001b[0m\n\u001b[1;32m----> 3\u001b[1;33m \u001b[0mtrain_history_2\u001b[0m \u001b[1;33m=\u001b[0m \u001b[0mmodel_2\u001b[0m\u001b[1;33m.\u001b[0m\u001b[0mfit\u001b[0m \u001b[1;33m(\u001b[0m \u001b[0mx_train\u001b[0m \u001b[1;33m,\u001b[0m \u001b[0my_train\u001b[0m \u001b[1;33m,\u001b[0m \u001b[0mbatch_size\u001b[0m\u001b[1;33m=\u001b[0m\u001b[1;36m32\u001b[0m \u001b[1;33m,\u001b[0m \u001b[0mepochs\u001b[0m\u001b[1;33m=\u001b[0m\u001b[1;36m15\u001b[0m\u001b[1;33m,\u001b[0m \u001b[0mverbose\u001b[0m\u001b[1;33m=\u001b[0m\u001b[1;36m2\u001b[0m \u001b[1;33m,\u001b[0m \u001b[0mvalidation_split\u001b[0m\u001b[1;33m=\u001b[0m\u001b[1;36m0.2\u001b[0m\u001b[1;33m)\u001b[0m\u001b[1;33m\u001b[0m\u001b[1;33m\u001b[0m\u001b[0m\n\u001b[0m",
      "\u001b[1;32m~\\AppData\\Roaming\\Python\\Python37\\site-packages\\keras\\engine\\training.py\u001b[0m in \u001b[0;36mfit\u001b[1;34m(self, x, y, batch_size, epochs, verbose, callbacks, validation_split, validation_data, shuffle, class_weight, sample_weight, initial_epoch, steps_per_epoch, validation_steps, validation_freq, max_queue_size, workers, use_multiprocessing, **kwargs)\u001b[0m\n\u001b[0;32m   1237\u001b[0m                                         \u001b[0msteps_per_epoch\u001b[0m\u001b[1;33m=\u001b[0m\u001b[0msteps_per_epoch\u001b[0m\u001b[1;33m,\u001b[0m\u001b[1;33m\u001b[0m\u001b[1;33m\u001b[0m\u001b[0m\n\u001b[0;32m   1238\u001b[0m                                         \u001b[0mvalidation_steps\u001b[0m\u001b[1;33m=\u001b[0m\u001b[0mvalidation_steps\u001b[0m\u001b[1;33m,\u001b[0m\u001b[1;33m\u001b[0m\u001b[1;33m\u001b[0m\u001b[0m\n\u001b[1;32m-> 1239\u001b[1;33m                                         validation_freq=validation_freq)\n\u001b[0m\u001b[0;32m   1240\u001b[0m \u001b[1;33m\u001b[0m\u001b[0m\n\u001b[0;32m   1241\u001b[0m     def evaluate(self,\n",
      "\u001b[1;32m~\\AppData\\Roaming\\Python\\Python37\\site-packages\\keras\\engine\\training_arrays.py\u001b[0m in \u001b[0;36mfit_loop\u001b[1;34m(model, fit_function, fit_inputs, out_labels, batch_size, epochs, verbose, callbacks, val_function, val_inputs, shuffle, initial_epoch, steps_per_epoch, validation_steps, validation_freq)\u001b[0m\n\u001b[0;32m    194\u001b[0m                     \u001b[0mins_batch\u001b[0m\u001b[1;33m[\u001b[0m\u001b[0mi\u001b[0m\u001b[1;33m]\u001b[0m \u001b[1;33m=\u001b[0m \u001b[0mins_batch\u001b[0m\u001b[1;33m[\u001b[0m\u001b[0mi\u001b[0m\u001b[1;33m]\u001b[0m\u001b[1;33m.\u001b[0m\u001b[0mtoarray\u001b[0m\u001b[1;33m(\u001b[0m\u001b[1;33m)\u001b[0m\u001b[1;33m\u001b[0m\u001b[1;33m\u001b[0m\u001b[0m\n\u001b[0;32m    195\u001b[0m \u001b[1;33m\u001b[0m\u001b[0m\n\u001b[1;32m--> 196\u001b[1;33m                 \u001b[0mouts\u001b[0m \u001b[1;33m=\u001b[0m \u001b[0mfit_function\u001b[0m\u001b[1;33m(\u001b[0m\u001b[0mins_batch\u001b[0m\u001b[1;33m)\u001b[0m\u001b[1;33m\u001b[0m\u001b[1;33m\u001b[0m\u001b[0m\n\u001b[0m\u001b[0;32m    197\u001b[0m                 \u001b[0mouts\u001b[0m \u001b[1;33m=\u001b[0m \u001b[0mto_list\u001b[0m\u001b[1;33m(\u001b[0m\u001b[0mouts\u001b[0m\u001b[1;33m)\u001b[0m\u001b[1;33m\u001b[0m\u001b[1;33m\u001b[0m\u001b[0m\n\u001b[0;32m    198\u001b[0m                 \u001b[1;32mfor\u001b[0m \u001b[0ml\u001b[0m\u001b[1;33m,\u001b[0m \u001b[0mo\u001b[0m \u001b[1;32min\u001b[0m \u001b[0mzip\u001b[0m\u001b[1;33m(\u001b[0m\u001b[0mout_labels\u001b[0m\u001b[1;33m,\u001b[0m \u001b[0mouts\u001b[0m\u001b[1;33m)\u001b[0m\u001b[1;33m:\u001b[0m\u001b[1;33m\u001b[0m\u001b[1;33m\u001b[0m\u001b[0m\n",
      "\u001b[1;32m~\\AppData\\Roaming\\Python\\Python37\\site-packages\\tensorflow\\python\\keras\\backend.py\u001b[0m in \u001b[0;36m__call__\u001b[1;34m(self, inputs)\u001b[0m\n\u001b[0;32m   3290\u001b[0m \u001b[1;33m\u001b[0m\u001b[0m\n\u001b[0;32m   3291\u001b[0m     fetched = self._callable_fn(*array_vals,\n\u001b[1;32m-> 3292\u001b[1;33m                                 run_metadata=self.run_metadata)\n\u001b[0m\u001b[0;32m   3293\u001b[0m     \u001b[0mself\u001b[0m\u001b[1;33m.\u001b[0m\u001b[0m_call_fetch_callbacks\u001b[0m\u001b[1;33m(\u001b[0m\u001b[0mfetched\u001b[0m\u001b[1;33m[\u001b[0m\u001b[1;33m-\u001b[0m\u001b[0mlen\u001b[0m\u001b[1;33m(\u001b[0m\u001b[0mself\u001b[0m\u001b[1;33m.\u001b[0m\u001b[0m_fetches\u001b[0m\u001b[1;33m)\u001b[0m\u001b[1;33m:\u001b[0m\u001b[1;33m]\u001b[0m\u001b[1;33m)\u001b[0m\u001b[1;33m\u001b[0m\u001b[1;33m\u001b[0m\u001b[0m\n\u001b[0;32m   3294\u001b[0m     output_structure = nest.pack_sequence_as(\n",
      "\u001b[1;32m~\\AppData\\Roaming\\Python\\Python37\\site-packages\\tensorflow\\python\\client\\session.py\u001b[0m in \u001b[0;36m__call__\u001b[1;34m(self, *args, **kwargs)\u001b[0m\n\u001b[0;32m   1456\u001b[0m         ret = tf_session.TF_SessionRunCallable(self._session._session,\n\u001b[0;32m   1457\u001b[0m                                                \u001b[0mself\u001b[0m\u001b[1;33m.\u001b[0m\u001b[0m_handle\u001b[0m\u001b[1;33m,\u001b[0m \u001b[0margs\u001b[0m\u001b[1;33m,\u001b[0m\u001b[1;33m\u001b[0m\u001b[1;33m\u001b[0m\u001b[0m\n\u001b[1;32m-> 1458\u001b[1;33m                                                run_metadata_ptr)\n\u001b[0m\u001b[0;32m   1459\u001b[0m         \u001b[1;32mif\u001b[0m \u001b[0mrun_metadata\u001b[0m\u001b[1;33m:\u001b[0m\u001b[1;33m\u001b[0m\u001b[1;33m\u001b[0m\u001b[0m\n\u001b[0;32m   1460\u001b[0m           \u001b[0mproto_data\u001b[0m \u001b[1;33m=\u001b[0m \u001b[0mtf_session\u001b[0m\u001b[1;33m.\u001b[0m\u001b[0mTF_GetBuffer\u001b[0m\u001b[1;33m(\u001b[0m\u001b[0mrun_metadata_ptr\u001b[0m\u001b[1;33m)\u001b[0m\u001b[1;33m\u001b[0m\u001b[1;33m\u001b[0m\u001b[0m\n",
      "\u001b[1;31mKeyboardInterrupt\u001b[0m: "
     ]
    }
   ],
   "source": [
    "# 1-38\n",
    "\n",
    "train_history_2 = model_2.fit ( x_train , y_train , batch_size=32 , epochs=15, verbose=2 , validation_split=0.2)                  "
   ]
  },
  {
   "cell_type": "code",
   "execution_count": null,
   "metadata": {},
   "outputs": [],
   "source": [
    "#將model存下\n",
    "model_2.save('RNN.h5')"
   ]
  },
  {
   "cell_type": "code",
   "execution_count": 77,
   "metadata": {},
   "outputs": [],
   "source": [
    "# 1-39\n",
    "\n",
    "from keras.layers.recurrent import LSTM"
   ]
  },
  {
   "cell_type": "code",
   "execution_count": 78,
   "metadata": {},
   "outputs": [],
   "source": [
    "# 1-40\n",
    "\n",
    "model_3 = Sequential()"
   ]
  },
  {
   "cell_type": "code",
   "execution_count": 79,
   "metadata": {},
   "outputs": [],
   "source": [
    "# 1-41\n",
    "\n",
    "model_3.add(Embedding(output_dim=32, input_dim=3500, input_length=350))      \n",
    "model_3.add(BatchNormalization())  "
   ]
  },
  {
   "cell_type": "code",
   "execution_count": 80,
   "metadata": {},
   "outputs": [],
   "source": [
    "# 1-42\n",
    "\n",
    "model_3.add ( LSTM(32) )"
   ]
  },
  {
   "cell_type": "code",
   "execution_count": 81,
   "metadata": {},
   "outputs": [
    {
     "name": "stderr",
     "output_type": "stream",
     "text": [
      "C:\\Users\\Yu\\AppData\\Roaming\\Python\\Python37\\site-packages\\keras\\activations.py:235: UserWarning: Do not pass a layer instance (such as LeakyReLU) as the activation argument of another layer. Instead, advanced activation layers should be used just like any other layer in a model.\n",
      "  identifier=identifier.__class__.__name__))\n"
     ]
    }
   ],
   "source": [
    "# 1-44\n",
    "\n",
    "model_3.add(Dense(units=256, activation =  LeakyReLU(), kernel_regularizer=regularizers.l2(0.01)))\n",
    "model_3.add(BatchNormalization())"
   ]
  },
  {
   "cell_type": "code",
   "execution_count": 82,
   "metadata": {},
   "outputs": [],
   "source": [
    "# 1-45\n",
    "\n",
    "model_3.add(Dense(units=1,activation='sigmoid' ))"
   ]
  },
  {
   "cell_type": "code",
   "execution_count": 83,
   "metadata": {},
   "outputs": [
    {
     "name": "stdout",
     "output_type": "stream",
     "text": [
      "Model: \"sequential_5\"\n",
      "_________________________________________________________________\n",
      "Layer (type)                 Output Shape              Param #   \n",
      "=================================================================\n",
      "embedding_5 (Embedding)      (None, 350, 32)           112000    \n",
      "_________________________________________________________________\n",
      "batch_normalization_9 (Batch (None, 350, 32)           128       \n",
      "_________________________________________________________________\n",
      "lstm_2 (LSTM)                (None, 32)                8320      \n",
      "_________________________________________________________________\n",
      "dense_11 (Dense)             (None, 256)               8448      \n",
      "_________________________________________________________________\n",
      "batch_normalization_10 (Batc (None, 256)               1024      \n",
      "_________________________________________________________________\n",
      "dense_12 (Dense)             (None, 1)                 257       \n",
      "=================================================================\n",
      "Total params: 130,177\n",
      "Trainable params: 129,601\n",
      "Non-trainable params: 576\n",
      "_________________________________________________________________\n"
     ]
    }
   ],
   "source": [
    "# 1-46\n",
    "\n",
    "model_3.summary()"
   ]
  },
  {
   "cell_type": "code",
   "execution_count": 84,
   "metadata": {},
   "outputs": [],
   "source": [
    "# 1-47\n",
    "\n",
    "model_3.compile(loss='binary_crossentropy',optimizer='adam',metrics=['accuracy'])"
   ]
  },
  {
   "cell_type": "code",
   "execution_count": 90,
   "metadata": {},
   "outputs": [
    {
     "name": "stdout",
     "output_type": "stream",
     "text": [
      "Train on 20000 samples, validate on 5000 samples\n",
      "Epoch 1/10\n",
      " - 88s - loss: 0.0350 - accuracy: 0.9901 - val_loss: 0.7726 - val_accuracy: 0.8364\n",
      "Epoch 2/10\n",
      " - 88s - loss: 0.0258 - accuracy: 0.9929 - val_loss: 1.1502 - val_accuracy: 0.8030\n",
      "Epoch 3/10\n",
      " - 88s - loss: 0.0310 - accuracy: 0.9908 - val_loss: 0.8244 - val_accuracy: 0.8378\n",
      "Epoch 4/10\n",
      " - 106s - loss: 0.0267 - accuracy: 0.9924 - val_loss: 0.8680 - val_accuracy: 0.8334\n",
      "Epoch 5/10\n",
      " - 90s - loss: 0.0202 - accuracy: 0.9952 - val_loss: 1.0008 - val_accuracy: 0.8032\n",
      "Epoch 6/10\n",
      " - 89s - loss: 0.0204 - accuracy: 0.9940 - val_loss: 1.4603 - val_accuracy: 0.7532\n",
      "Epoch 7/10\n",
      " - 88s - loss: 0.0225 - accuracy: 0.9940 - val_loss: 1.1888 - val_accuracy: 0.7874\n",
      "Epoch 8/10\n",
      " - 89s - loss: 0.0205 - accuracy: 0.9941 - val_loss: 1.1864 - val_accuracy: 0.7974\n",
      "Epoch 9/10\n",
      " - 89s - loss: 0.0210 - accuracy: 0.9942 - val_loss: 1.1987 - val_accuracy: 0.7802\n",
      "Epoch 10/10\n",
      " - 89s - loss: 0.0204 - accuracy: 0.9945 - val_loss: 0.7379 - val_accuracy: 0.8614\n"
     ]
    }
   ],
   "source": [
    "# 1-48\n",
    "\n",
    "train_history_3 = model_3.fit ( x_train , y_train , batch_size=32 , epochs=10 , verbose=2 , validation_split=0.2)                  "
   ]
  },
  {
   "cell_type": "code",
   "execution_count": 91,
   "metadata": {},
   "outputs": [
    {
     "data": {
      "image/png": "[encoded data removed]",
      "text/plain": [
       "<Figure size 432x288 with 1 Axes>"
      ]
     },
     "metadata": {},
     "output_type": "display_data"
    },
    {
     "data": {
      "image/png": "[encoded data removed]",
      "text/plain": [
       "<Figure size 432x288 with 1 Axes>"
      ]
     },
     "metadata": {},
     "output_type": "display_data"
    }
   ],
   "source": [
    "# 1-49\n",
    "\n",
    "acc = train_history_3.history['accuracy']\n",
    "val_acc = train_history_3.history['val_accuracy']\n",
    "\n",
    "loss = train_history_3.history['loss']\n",
    "val_loss = train_history_3.history['val_loss']\n",
    "\n",
    "epochs = range(len(acc))\n",
    "\n",
    "# 繪製準確率\n",
    "plt.title('Training and validation accuracy')\n",
    "plt.xlabel('epochs')\n",
    "plt.ylabel('acc')\n",
    "\n",
    "plt.plot(epochs,acc, label='train')\n",
    "plt.plot(epochs,val_acc,label = 'val')\n",
    "\n",
    "\n",
    "plt.legend()\n",
    "plt.show()\n",
    "plt.clf()\n",
    "\n",
    "\n",
    "# 繪製損失函數\n",
    "plt.title('Training and validation loss')\n",
    "plt.xlabel('epochs')\n",
    "plt.ylabel('loss')\n",
    "\n",
    "plt.plot(epochs,loss,label='train')\n",
    "plt.plot(epochs,val_loss,label='val')\n",
    "\n",
    "plt.legend()\n",
    "plt.show()"
   ]
  },
  {
   "cell_type": "markdown",
   "metadata": {},
   "source": [
    "---\n",
    "\n",
    "**1.5 評估與測試**\n",
    "\n",
    "---"
   ]
  },
  {
   "cell_type": "code",
   "execution_count": 88,
   "metadata": {},
   "outputs": [
    {
     "name": "stdout",
     "output_type": "stream",
     "text": [
      "25000/25000 [==============================] - 28s 1ms/step\n"
     ]
    },
    {
     "data": {
      "text/plain": [
       "0.8434799909591675"
      ]
     },
     "execution_count": 88,
     "metadata": {},
     "output_type": "execute_result"
    }
   ],
   "source": [
    "# 1-50\n",
    "\n",
    "# 使用model.evaluate進行評估模型準確率，評估後的準確率會儲存在sorces\n",
    "# 設定測試資料參數\n",
    "# 顯示準確率\n",
    "\n",
    "sorces =  model_3.evaluate ( x_test , y_test , verbose=1 )                                                                        \n",
    "sorces[1]  "
   ]
  },
  {
   "cell_type": "code",
   "execution_count": null,
   "metadata": {},
   "outputs": [],
   "source": [
    "# 1-51\n",
    "\n",
    "# 預測前30筆\n",
    "\n",
    "predict = model.predict_classes(x_test)\n",
    "predict[:30]"
   ]
  },
  {
   "cell_type": "code",
   "execution_count": null,
   "metadata": {},
   "outputs": [],
   "source": [
    "# 1-52\n",
    "\n",
    "predict_classes = predict.reshape(-1)\n",
    "predict_classes[:10]"
   ]
  },
  {
   "cell_type": "code",
   "execution_count": null,
   "metadata": {},
   "outputs": [],
   "source": [
    "# 1-53\n",
    "# 定義字典\n",
    "# 建立函數\n",
    "# 顯示影評文字\n",
    "\n",
    "SentimentDict = {1:'正面的',0:'負面的'}  \n",
    "def display_test_Sentiment(i):  \n",
    "    print(test_text[i])   \n",
    "    print ( 'label真實值：' , SentimentDict[y_test[i]] , '預測結果：' , SentimentDict[predict_classes[i]] ) "
   ]
  },
  {
   "cell_type": "code",
   "execution_count": null,
   "metadata": {},
   "outputs": [],
   "source": [
    "display_test_Sentiment(2)"
   ]
  },
  {
   "cell_type": "code",
   "execution_count": 3,
   "metadata": {},
   "outputs": [
    {
     "ename": "NameError",
     "evalue": "name 'display_test_Sentiment' is not defined",
     "output_type": "error",
     "traceback": [
      "\u001b[1;31m---------------------------------------------------------------------------\u001b[0m",
      "\u001b[1;31mNameError\u001b[0m                                 Traceback (most recent call last)",
      "\u001b[1;32m<ipython-input-3-3765d71464fc>\u001b[0m in \u001b[0;36m<module>\u001b[1;34m\u001b[0m\n\u001b[0;32m      1\u001b[0m \u001b[1;31m# 1-54\u001b[0m\u001b[1;33m\u001b[0m\u001b[1;33m\u001b[0m\u001b[0m\n\u001b[0;32m      2\u001b[0m \u001b[1;33m\u001b[0m\u001b[0m\n\u001b[1;32m----> 3\u001b[1;33m \u001b[0mdisplay_test_Sentiment\u001b[0m\u001b[1;33m(\u001b[0m\u001b[1;36m20000\u001b[0m\u001b[1;33m)\u001b[0m\u001b[1;33m\u001b[0m\u001b[0m\n\u001b[0m",
      "\u001b[1;31mNameError\u001b[0m: name 'display_test_Sentiment' is not defined"
     ]
    }
   ],
   "source": [
    "# 1-54\n",
    "\n",
    "display_test_Sentiment(20000)"
   ]
  },
  {
   "cell_type": "markdown",
   "metadata": {},
   "source": [
    "---\n",
    "\n",
    "**1.6 建立新的數據集**\n",
    "\n",
    "---"
   ]
  },
  {
   "cell_type": "code",
   "execution_count": null,
   "metadata": {},
   "outputs": [],
   "source": [
    "# 1-55\n",
    "\n",
    "input_text = \"The popularity and the huge profits of Despicable Me franchise has driven the eagerness of Illumination Entertainment to produce a minions spin-off solely to entertain the fans. Caught in variations of the same scenarios, the decision to put more focus on the three minions - Kevin, Stuart and Bob might remind audiences about Alvin and the Chipmunks or the three daughters of Gru. While the animation does remain the fun, hilarious and ridiculous behaviors of the characters, the theme of the scores and the nonsensical language of the minions, it does not have a strong villain to support the three, also it lacks of character development, warm emotional engagement and moral values. The cuteness of the minions is the main element for entertainment rather than the dialogue itself in which the jokes aren't as funny as Despicable Me's series. Nonetheless, it is still energetic, actions packed, visually stunning and colorful for family audiences even its creative mistake drags its overall quality, proving that these banana lovers are far more effective and surprising to be supporting characters just as in the main franchise.\""
   ]
  },
  {
   "cell_type": "code",
   "execution_count": null,
   "metadata": {},
   "outputs": [],
   "source": [
    "# 1-56\n",
    "\n",
    "input_seq = token.texts_to_sequences([input_text])\n",
    "print(input_seq[0])"
   ]
  },
  {
   "cell_type": "code",
   "execution_count": null,
   "metadata": {},
   "outputs": [],
   "source": [
    "# 1-57\n",
    "\n",
    "len(input_seq[0])"
   ]
  },
  {
   "cell_type": "code",
   "execution_count": null,
   "metadata": {},
   "outputs": [],
   "source": [
    "# 1-58\n",
    "# 100為數字list長度\n",
    "\n",
    "pad_input_seq = sequence.pad_sequences(input_seq,maxlen=100)  "
   ]
  },
  {
   "cell_type": "code",
   "execution_count": null,
   "metadata": {},
   "outputs": [],
   "source": [
    "len(pad_input_seq[0])"
   ]
  },
  {
   "cell_type": "code",
   "execution_count": null,
   "metadata": {},
   "outputs": [],
   "source": [
    "# 1-59\n",
    "\n",
    "predict_result = model.predict_classes(pad_input_seq)"
   ]
  },
  {
   "cell_type": "code",
   "execution_count": null,
   "metadata": {},
   "outputs": [],
   "source": [
    "# 1-60\n",
    "\n",
    "predict_result"
   ]
  },
  {
   "cell_type": "code",
   "execution_count": null,
   "metadata": {},
   "outputs": [],
   "source": [
    "# 1-61\n",
    "\n",
    "predict_result[0][0]"
   ]
  },
  {
   "cell_type": "code",
   "execution_count": null,
   "metadata": {},
   "outputs": [],
   "source": [
    "# 1-62\n",
    "\n",
    "SentimentDict[predict_result[0][0]]"
   ]
  },
  {
   "cell_type": "code",
   "execution_count": null,
   "metadata": {},
   "outputs": [],
   "source": [
    "# 1-63\n",
    "# 100為數字list長度\n",
    "\n",
    "def predict_review(input_text):\n",
    "    input_seq = token.texts_to_sequences([input_text])\n",
    "    pad_input_seq = sequence.pad_sequences(input_seq,maxlen=100)   \n",
    "    predict_result = model.predict_classes(pad_input_seq)\n",
    "    print(SentimentDict[predict_result[0][0]])"
   ]
  },
  {
   "cell_type": "code",
   "execution_count": null,
   "metadata": {},
   "outputs": [],
   "source": [
    "# 1-64\n",
    "\n",
    "predict_review('''Minions isn't as great a story as Despicable Me, but it's definitely a lot of fun. It's just a silly little story, giving some background to the little corn pops.I really had a good time watching it. There's lots of goofy action, and thank god, it wasn't full of stupid bathroom humour. It was actually pretty funny. The kids will like it.My favourite part of the movie was the soundtrack. The movie takes place in the 60s, so the songs comes from that era. It's going to introduce so many kids to a lot of good music, and you can never go wrong with that, especially nowadays.''')\n"
   ]
  },
  {
   "cell_type": "code",
   "execution_count": null,
   "metadata": {},
   "outputs": [],
   "source": [
    "# 1-65\n",
    "\n",
    "predict_review('''My seven year old was excited to see it. I expected it to be pish. But it was worse than I imagined. I fell asleep a few times but the annoying yelling pretend dialogue woke me up. I couldn't even get a nap out of my wasted afternoon. At least I didn't have to worry about my kid laughing too loudly and disturbing anyone else's sleep. He got bored too. Just utter crap. They clearly spent a lot on the music. The Beatles, the kinks, and van Halens eruption as a guitar solo at the merciful end to this travesty of a film. If only they had spent the money on a scriptwriter rather than the over- caffeinated sixth graders they got hopped up on juice boxes before handing them some paper to defecate on and call that a script. The humor in the film was non existent. I expected lots of broad fart jokes and low brow stupidity aimed at chimps, five year olds, and the same kind of morons who made Kevin James a star. What I got was obvious pop culture references not as punchlines or set up for jokes. Just there. As if the existence of a reference to something recognizable was in and of itself funny. Perhaps it served as a confidence booster for the gump-like, slack jawed, troglodytes that were the target audience. They could all feel jolly clever after recognizing such obscure references as the Beatles. Well done. If I had a time machine and only choose to change one thing in the pas, forget hitter, I would go back to stop whoever green lit this cinematic excretion.''')\n"
   ]
  },
  {
   "cell_type": "code",
   "execution_count": null,
   "metadata": {},
   "outputs": [],
   "source": [
    "# 1-66\n",
    "\n",
    "predict_review('''I attended an advance screening of this film not sure of what to expect from Kevin Costner and Ashton Kutcher; both have delivered less than memorable performances & films. While the underlying \"general\" storyline is somewhat familiar, this film was excellent. Both Costner and Kutcher delivered powerful performances playing extremely well off each other. The human frailties and strengths of their respective characters were incredibly played by both; the scene when Costner confronts Kutcher with the personal reasons why Kutcher joined the Coast Guard rescue elite was the film's most unforgettable emotional moment. The \"specific\" storyline was an education in itself depicting the personal sacrifice and demanding physical training the elite Coast Guard rescuers must go through in preparation of their only job & responsibility...to save lives at sea. The special effects of the rescue scenes were extremely realistic and \"wowing\"...I haven't seen such angry seas since \"The Perfect Storm\". Co-star Clancy Brown (HBO's \"Carnivale\" - great to see him again) played the captain of the Coast Guard's Kodiak, Alaska base in a strong, convincing role as a leader with the prerequisite and necessary ice water in his veins. The film wonderfully, and finally, gives long overdue exposure and respect to the Coast Guard; it had the audience applauding at the end.''')"
   ]
  },
  {
   "cell_type": "code",
   "execution_count": null,
   "metadata": {},
   "outputs": [],
   "source": [
    "predict_review('''If you had asked me how the movie was throughout the film, I would have told you it was great! However, I left the theatre feeling unsatisfied. After thinking a little about it, I believe the problem was the pace of the ending. I feel that the majority of the movie moved kind of slow, and then the ending developed very fast. So, I would say the ending left me disappointed.<br /><br />I thought that the characters were well developed. Costner and Kutcher both portrayed their roles very well. Yes! Ashton Kutcher can act! Also, the different relationships between the characters seemed very real. Furthermore,I thought that the different plot lines were well developed. Overall, it was a good movie and I would recommend seeing it.<br /><br />In conclusion: Good Characters, Great Plot, Poorly Written/Edited Ending. Still, Go See It!!!''')"
   ]
  },
  {
   "cell_type": "code",
   "execution_count": null,
   "metadata": {},
   "outputs": [],
   "source": []
  },
  {
   "cell_type": "code",
   "execution_count": null,
   "metadata": {},
   "outputs": [],
   "source": []
  },
  {
   "cell_type": "code",
   "execution_count": null,
   "metadata": {},
   "outputs": [],
   "source": []
  }
 ],
 "metadata": {
  "kernelspec": {
   "display_name": "Python 3",
   "language": "python",
   "name": "python3"
  },
  "language_info": {
   "codemirror_mode": {
    "name": "ipython",
    "version": 3
   },
   "file_extension": ".py",
   "mimetype": "text/x-python",
   "name": "python",
   "nbconvert_exporter": "python",
   "pygments_lexer": "ipython3",
   "version": "3.8.8"
  }
 },
 "nbformat": 4,
 "nbformat_minor": 2
}
